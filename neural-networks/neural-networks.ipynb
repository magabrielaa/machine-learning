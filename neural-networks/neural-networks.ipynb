{
 "cells": [
  {
   "cell_type": "markdown",
   "metadata": {
    "deletable": false,
    "editable": false,
    "nbgrader": {
     "cell_type": "markdown",
     "checksum": "e016684a413018c4c362550680262e1e",
     "grade": false,
     "grade_id": "cell-82ae56686993b52b",
     "locked": true,
     "schema_version": 3,
     "solution": false,
     "task": false
    }
   },
   "source": [
    "# Neural Networks"
   ]
  },
  {
   "cell_type": "markdown",
   "metadata": {},
   "source": [
    "**Name**: Maria Gabriela Ayala"
   ]
  },
  {
   "cell_type": "code",
   "execution_count": 5,
   "metadata": {},
   "outputs": [
    {
     "data": {
      "text/plain": [
       "<torch._C.Generator at 0x7fe1764de450>"
      ]
     },
     "execution_count": 5,
     "metadata": {},
     "output_type": "execute_result"
    }
   ],
   "source": [
    "import math\n",
    "import pickle\n",
    "import gzip\n",
    "import numpy as np\n",
    "import matplotlib.pylab as plt\n",
    "%matplotlib inline\n",
    "\n",
    "# Test PyTorch installation\n",
    "import torch \n",
    "\n",
    "torch.manual_seed(1234)"
   ]
  },
  {
   "cell_type": "markdown",
   "metadata": {
    "deletable": false,
    "editable": false,
    "nbgrader": {
     "cell_type": "markdown",
     "checksum": "2573ab17338326e968d9f2df499f06a7",
     "grade": false,
     "grade_id": "cell-d79b29ab197119c1",
     "locked": true,
     "schema_version": 3,
     "solution": false,
     "task": false
    }
   },
   "source": [
    "Problem 1 - Single-Layer and Multilayer Perceptron Learning\n",
    "---\n",
    "\n",
    "### Part 1\n",
    "Consider learning the following concepts with either a single-layer or multilayer perceptron where all hidden and output neurons utilize the *indicator* activation functions. For each of the following concepts, state whether the concept can be learned by a single-layer perceptron. Briefly justify your response by providing weights, biases, and the *indicator* activation functions if applicable:\n",
    "\n",
    "- $\\; \\texttt{NOT } x_1$\n",
    "\n",
    "- $\\; x_1 \\texttt{ NAND } x_2$\n",
    "\n",
    "- $\\; x_1 \\texttt{ XNOR } x_2$ (output 1 when $x_1 = x_2$ and 0 otherwise)"
   ]
  },
  {
   "cell_type": "markdown",
   "metadata": {},
   "source": [
    "Considering the following simple activation function:\n",
    "\n",
    "$$ f(z) = \n",
    "\\begin{cases}  \n",
    "    1 \\text{ if }  z\\geq 0 \\\\ \n",
    "    0 \\text{ if }  z\\leq 0 \n",
    "\\end{cases}$$\n",
    "\n",
    "\n",
    "1. $\\; \\texttt{NOT } x_1$\n",
    "\n",
    "With w = (-1, 0) and b = 0.5 we can do the following calculations:\n",
    "\n",
    "$ \\texttt{x = (0,0):} $    \n",
    "$\\\\ z = (x \\cdot w) + b \n",
    "\\rightarrow z = (0 * -1) + (0 * 0) + 0.5\n",
    "\\rightarrow z = 0.5 \n",
    "\\rightarrow f(0.5) = 1$\n",
    "\n",
    "$\\texttt{x = (0,1):} $  \n",
    "$\\\\ z = (0 * -1) + (1 * 0) + 0.5 \n",
    "\\rightarrow z = 0.5 \n",
    "\\rightarrow f(0.5) = 1$\n",
    "\n",
    "$\\texttt{x = (1,0):} $  \n",
    "$\\\\ z = (1 * -1) + (0 * 0) + 0.5\n",
    "\\rightarrow z = -1 + 0.5\n",
    "\\rightarrow f(-0.5) = 0$\n",
    "\n",
    "$\\texttt{x = (1,1):} $  \n",
    "$\\\\ z = (1 * -1) + (1 * 0) + 0.5\n",
    "\\rightarrow z = -1 + 0.5\n",
    "\\rightarrow  f(-0.5) = 0$\n",
    "\n",
    "As a result, we obtain:\n",
    "\n",
    "|$x_1$|0|0|1|1|\n",
    "|:------:|:------------:|:---:|:---:|:---:|\n",
    "|$x_2$|0|1|0|1|\n",
    "|$ x_1 \\texttt { NOT } x_2$|1|1|0|0|\n",
    "\n",
    "$\\\\ \\rightarrow$ The NOT logic gate can be learned with a single-layer perceptron because the input classes are linearly separable."
   ]
  },
  {
   "cell_type": "markdown",
   "metadata": {},
   "source": [
    "2. $\\; \\texttt{ NAND } x_1$\n",
    "\n",
    "With w = (-3, -1) and b = 3 we can do the following calculations:\n",
    "\n",
    "$ \\texttt{x = (0,0):} $\n",
    "$\\\\ z = (x \\cdot w) + b\n",
    "\\rightarrow z = (0 * -3) + (0 * -1) + 3\n",
    "\\rightarrow z = 3\n",
    "\\rightarrow  f(3) = 1$\n",
    "\n",
    "$ \\texttt{x = (0,1):} $  \n",
    "$\\\\ z = (0 * -3) + (1 * -1) + 3\n",
    "\\rightarrow z = -1 + 3\n",
    "\\rightarrow f(2) = 1$\n",
    "\n",
    "$ \\texttt{x = (1,0):} $  \n",
    "$\\\\ z = (1 * -3) + (0 * -1) + 3\n",
    "\\rightarrow z = -3 + 3\n",
    "\\rightarrow f(0) = 1$\n",
    "\n",
    "$ \\texttt{x = (1,1):} $  \n",
    "$\\\\ z = (1 * -3) + (1 * -1) + 3\n",
    "\\rightarrow z = -3 - 1 + 3\n",
    "\\rightarrow f(-1) = 0$\n",
    "\n",
    "\n",
    "We get:\n",
    "\n",
    "|$x_1$|0|0|1|1|\n",
    "|:---:|:---:|:---:|:---:|:---:|\n",
    "|$x_2$|0|1|0|1|\n",
    "|$ x_1 \\texttt { NAND } x_2$|1|1|1|0|\n",
    "\n",
    "$\\\\ \\rightarrow$ The NAND logic gate can also be learned with a single-layer perceptron because the input classes are linearly separable."
   ]
  },
  {
   "cell_type": "markdown",
   "metadata": {
    "collapsed": true,
    "deletable": false,
    "nbgrader": {
     "cell_type": "markdown",
     "checksum": "dfdc38689f4c5df788943b9f0de15a38",
     "grade": true,
     "grade_id": "cell-5504bb80827fe61b",
     "locked": false,
     "points": 13,
     "schema_version": 3,
     "solution": true
    }
   },
   "source": [
    "\n",
    "\n",
    "3. $\\; x_1 \\texttt{ XNOR } x_2$ \n",
    "\n",
    "The XNOR logic gate consists of (1) an $\\; x_1 \\texttt{ AND } x_2$ gate, a $\\; x_1 \\texttt{ NOR } x_2$ gate and an $\\; x_1 \\texttt{ OR } x_2$. To get to XNOR, we have to go through each of these steps.\n",
    "\n",
    "![xnor](figs/xnor.png)\n",
    "    \n",
    "(1) First, calculate the $\\; x_1 \\texttt{ AND } x_2$ gate for each of the four possible combinations of $x_1$ and $x_2$:\n",
    "    \n",
    "With w = (1, 1) and b = - 2: \n",
    "\n",
    "$ \\texttt{x = (0,0):} $ \n",
    "$\\\\ z = (0 * 1) + (0 * 1) - 2\n",
    "\\rightarrow z = -2\n",
    "\\rightarrow f(-2) = 0$\n",
    "\n",
    "$ \\texttt{x = (0,1):} $  \n",
    "$\\\\ z = (0 * 1) + (1 * 1) - 2\n",
    "\\rightarrow z = 1 - 2\n",
    "\\rightarrow f(-1) = 0$\n",
    "\n",
    "$ \\texttt{x = (1,0):} $  \n",
    "$\\\\ z = (1 * 1) + (0 * 1) - 2\n",
    "\\rightarrow z = 1 - 2\n",
    "\\rightarrow f(-1) = 0$\n",
    "\n",
    "$ \\texttt{x = (1,1):} $  \n",
    "$\\\\ z = (1 * 1) + (1 * 1) - 2\n",
    "\\rightarrow z = 1 + 1 - 2\n",
    "\\rightarrow f(0) = 1$\n",
    "\n",
    "We get:\n",
    "\n",
    "|$x_1$|0|0|1|1|\n",
    "|:------:|:------------:|:---:|:---:|:---:|\n",
    "|$x_2$|0|1|0|1|\n",
    "|$ x_1 \\texttt { AND } x_2$|0|0|0|1|\n",
    "\n",
    "\n",
    "\n",
    "(2) Then we calculate the $\\; x_1 \\texttt{ NOR } x_2$ gate for each of the four possible combinations of $x_1$ and $x_2$:\n",
    "\n",
    "With w = (-3, -3) and b = 2: \n",
    "\n",
    "$ \\texttt{x = (0,0):} $ \n",
    "$\\\\ z = (0 * -3) + (0 * -3) + 2\n",
    "\\rightarrow z = 2\n",
    "\\rightarrow f(2) = 1$\n",
    "\n",
    "$ \\texttt{x = (0,1):} $ \n",
    "$\\\\ z = (0 * -3) + (1 * -3) + 2\n",
    "\\rightarrow z = -3 + 2\n",
    "\\rightarrow f(-1) = 0$\n",
    "\n",
    "$ \\texttt{x = (1,0):} $  \n",
    "$z = (1 * -3) + (0 * -3) + 2\n",
    "\\rightarrow z = -3 + 2\n",
    "\\rightarrow f(-1) = 0$\n",
    "\n",
    "$ \\texttt{x = (1,1):} $  \n",
    "$\\\\ z = (1 * -3) + (1 * -3) + 2\n",
    "\\rightarrow z = -3 - 3 + 2\n",
    "\\rightarrow f(-4) = 0$\n",
    "\n",
    "We get:\n",
    "\n",
    "|$x_1$|0|0|1|1|\n",
    "|:------:|:------------:|:---:|:---:|:---:|\n",
    "|$x_2$|0|1|0|1|\n",
    "|$ x_1 \\texttt { NOR } x_2$|1|0|0|0|\n",
    "\n",
    "\n",
    "(3) Following the class outputs from the AND and NOR gates we have our new $x_1$ and $x_2$ values:\n",
    "\n",
    "\n",
    "|$x_1 \\text{ (ie. AND output)} $|0|0|0|1|\n",
    "|:------:|:------------:|:---:|:---:|:---:|\n",
    "|$x_2 \\text{ (ie. NOR output)}$|1|0|0|0|\n",
    "\n",
    "\n",
    "We now pass these new $x_1$ and $x_2$ through an $\\; x_1 \\texttt{ OR } x_2$ gate.\n",
    "\n",
    "With w = (1, 1) and b = -1 we can do the following calculations:\n",
    "\n",
    "$ \\texttt{x = (0,1):} $ \n",
    "$\\\\ z = (0 * 1) + (1 * 1) - 1\n",
    "\\rightarrow z = 1 - 1\n",
    "\\rightarrow f(0) = 1$\n",
    "\n",
    "$ \\texttt{x = (0,0):} $  \n",
    "$\\\\ z = (0 * 1) + (0 * 1) - 1\n",
    "\\rightarrow z = -1\n",
    "\\rightarrow f(-1) = 0$\n",
    "\n",
    "$ \\texttt{x = (0,0):} $  \n",
    "$\\rightarrow f(-1) = 0$\n",
    "\n",
    "$ \\texttt{x = (1,0):} $  \n",
    "$\\\\ z = (1 * 1) + (0 * 1) - 1\n",
    "\\rightarrow z = 1 - 1\n",
    "\\rightarrow f(0) = 1$\n",
    "\n",
    "\n",
    "The following table summarizes the output class results for the AND, NOR and OR gates, where the last one corresponds to $\\; x_1 \\texttt{ XNOR } x_2$.\n",
    "\n",
    "|$x_1$|0|0|1|1|\n",
    "|:---:|:---:|:---:|:---:|:---:|\n",
    "|$x_2$|0|1|0|1|\n",
    "|$ x_1 \\texttt { AND } x_2$|0|0|0|1|\n",
    "|$ x_1 \\texttt { NOR } x_2$|1|0|0|0|\n",
    "|$ x_1 \\texttt { OR } x_2 \\text{ (ie. } x_1 \\texttt { XNOR } x_2)$|1|0|0|1|\n",
    "\n",
    "\n",
    "$\\\\ \\rightarrow$ The XNOR logic gate CANNOT be learned in single-layer perceptron because the input classes are not linearly separable with  respect to the outer classes. In this case, we need to add a hidden layer in order to learn XNOR."
   ]
  },
  {
   "cell_type": "markdown",
   "metadata": {
    "deletable": false,
    "editable": false,
    "nbgrader": {
     "cell_type": "markdown",
     "checksum": "2be512fcc20306464e48ac46ffb8e227",
     "grade": false,
     "grade_id": "cell-34216deb363900f5",
     "locked": true,
     "schema_version": 3,
     "solution": false,
     "task": false
    }
   },
   "source": [
    "### Part 2\n",
    "\n",
    "Determine an architecture and specific values of the weights and biases in a single-layer or multilayer perceptron with *indicator* activation functions that can learn $x_1 \\texttt{ XNOR } x_2$. Make a truth table of $x_1$, $x_2$, and $x_1 \\texttt{ XNOR } x_2$, describe your perceptron's architecture, and state your weight matrices and bias vectors in Markdown below. Then demonstrate that your solution is correct by implementing forward propagation for your network in Python and showing that it produces the correct boolean output values for each of the four possible combinations of $x_1$ and $x_2$."
   ]
  },
  {
   "cell_type": "markdown",
   "metadata": {
    "collapsed": true,
    "deletable": false,
    "nbgrader": {
     "cell_type": "markdown",
     "checksum": "14a2818fdc70d3dd3eb4b39ddd3a107e",
     "grade": true,
     "grade_id": "cell-fd1e475a5ef92def",
     "locked": false,
     "points": 7,
     "schema_version": 3,
     "solution": true
    }
   },
   "source": [
    "$\\; x_1 \\texttt{ XNOR } x_2$ can also be expressed as the negation of $\\; x_1 \\texttt{ XOR } x_2$. This logic gate can be learned in two layers with the following weights and biases:\n",
    "\n",
    "$ W^1 = \\begin{bmatrix}\n",
    "1 & 1\\\\\n",
    "-1 & -1\n",
    "\\end{bmatrix}, \\space b^1 = \\begin{bmatrix} = -1.5 \\\\ 0.5 \\end{bmatrix}$\n",
    "\n",
    "$ \\\\ W^2 = \\begin{bmatrix}\n",
    "1 \\\\ 1 \\end{bmatrix}, \\space b^2 = -0.5 $\n",
    "\n",
    "Applying a two-layer architecture with the specified weights and biases, we get the following truth table for $ x_1 \\texttt { XNOR } x_2$ :\n",
    "\n",
    "| $x_1$   | 0        | 0| 1| 1|\n",
    "|:------:|:------------:|---:|---:|---:|\n",
    "|$x_2$|0|1|0|1|\n",
    "|$ x_1 \\texttt { XNOR } x_2$|1|0|0|1|\n",
    "\n",
    "\n"
   ]
  },
  {
   "cell_type": "code",
   "execution_count": 62,
   "metadata": {},
   "outputs": [
    {
     "name": "stdout",
     "output_type": "stream",
     "text": [
      "input x1, x2: [0 0]\n",
      "output y: 1\n",
      "\n",
      "input x1, x2: [0 1]\n",
      "output y: 0\n",
      "\n",
      "input x1, x2: [1 0]\n",
      "output y: 0\n",
      "\n",
      "input x1, x2: [1 1]\n",
      "output y: 1\n",
      "\n"
     ]
    }
   ],
   "source": [
    "def xnor(x):\n",
    "    '''\n",
    "    Computes forward propagation for the XNOR gate.\n",
    "    Input:\n",
    "        (NumPy array): x1 and x2 inputs\n",
    "    Output:\n",
    "        (NumPy array): predicted y output\n",
    "    '''\n",
    "\n",
    "    w1 = np.array([[1,1], [-1 , -1]])\n",
    "    b1 = np.array([-1.5, 0.5])\n",
    "    w2 = np.array([[1, 1]])\n",
    "    b2 = np.array([-0.5])\n",
    "\n",
    "    a0 = np.dot(w1, x) + b1 > 0\n",
    "    a0 = np.array(a0, dtype = int)\n",
    "    a1 = np.dot(w2, a0) + b2 > 0\n",
    "    a1 = np.array(a1, dtype = int)\n",
    "\n",
    "    return a1\n",
    "\n",
    "# Testing the XNOR function with all four combinations of x1 and x2:\n",
    "\n",
    "X = np.array([[0,0], [0,1], [1,0], [1,1]])\n",
    "outputs = []\n",
    "\n",
    "for x in X:\n",
    "    print(\"input x1, x2:\", x)\n",
    "    a = xnor(x)\n",
    "    outputs.append(list(a))\n",
    "    print(\"output y:\", a[0])\n",
    "    print()\n",
    "\n",
    "y = np.array(outputs)\n",
    "    "
   ]
  },
  {
   "cell_type": "markdown",
   "metadata": {
    "deletable": false,
    "editable": false,
    "nbgrader": {
     "cell_type": "markdown",
     "checksum": "eec45d2ce42d7a68e35e21c35f0e0dd6",
     "grade": false,
     "grade_id": "cell-410d0399fa830fab",
     "locked": true,
     "schema_version": 3,
     "solution": false,
     "task": false
    }
   },
   "source": [
    "Problem 2 - Back propagation\n",
    "---\n",
    "\n",
    "In this problem you will gain some intuition about why training deep neural networks can be very time consuming.  Consider training a chain-like neural network: \n",
    "\n",
    "![chain-like nn](figs/chain_net.png)\n",
    "\n",
    "Note that this network has three weights $W^1, W^2, W^3$ and three biases $b^1, b^2,$ and $b^3$ (for this problem you can think of each parameter as a single value or as a $1 \\times 1$ matrix). Suppose that each hidden and output neuron is equipped with a sigmoid activation function and the loss function is given by \n",
    "\n",
    "$$\n",
    "\\ell(y, a^4) = \\frac{1}{2}(y - a^4)^2  \n",
    "$$\n",
    "\n",
    "where $a^4$ is the value of the activation at the output neuron and $y \\in \\{0,1\\}$ is the true label associated with the training example.  \n",
    "\n",
    "**Note**: Superscripts on $W$'s, $b$'s, and $a$'a are being used as indices and not powers here (e.g. $a^4$ indicates the 4th activation value, not the activation value $a$ to the 4th power.)"
   ]
  },
  {
   "cell_type": "markdown",
   "metadata": {
    "deletable": false,
    "editable": false,
    "nbgrader": {
     "cell_type": "markdown",
     "checksum": "0469b2c80ca80e326c1c1314c8b1165d",
     "grade": false,
     "grade_id": "cell-4337ff6b53b1760a",
     "locked": true,
     "schema_version": 3,
     "solution": false,
     "task": false
    }
   },
   "source": [
    "### Part 1\n",
    "Suppose each of the weights is initialized to $W^k = 1.0$ and each bias is initialized to $b^k = -0.5$.  Use forward propagation to find the activities and activations associated with each hidden and output neuron for the training example $(x, y) = (0.5,0)$. Show your work. "
   ]
  },
  {
   "cell_type": "markdown",
   "metadata": {
    "collapsed": true,
    "deletable": false,
    "nbgrader": {
     "cell_type": "markdown",
     "checksum": "e1809adff66e4fb815a6d91b5429f6dc",
     "grade": true,
     "grade_id": "cell-6512c42fc5e9ce1b",
     "locked": false,
     "points": 6,
     "schema_version": 3,
     "solution": true
    }
   },
   "source": [
    "The sigmoid function is defined as:\n",
    "\n",
    "$$ \\sigma(z) = \\frac{1}{1+e^{-z}} $$\n",
    "\n",
    "Following the neural network, there are three layers to get to our final output $a^4$:\n",
    "\n",
    "- $\\text{For } k = 1:$\n",
    "\n",
    "    $$z = (x \\cdot W^1) + b^1$$\n",
    "\n",
    "    $$z = (0.5 * 1.0) - 0.5$$\n",
    "\n",
    "    $$z = 0.5 - 0.5 = 0$$\n",
    "\n",
    "    $$\\sigma(0) = \\frac{1}{1+e^{-0}}$$\n",
    "    $$= \\frac{1}{1+1}$$\n",
    "    $$= \\frac{1}{2}$$\n",
    "\n",
    "    $$\\\\  a^2 = 0.5 $$\n",
    "\n",
    "\n",
    "- $\\text{For } k = 2:$\n",
    "\n",
    "    $$z = (x \\cdot W^2) + b^2$$\n",
    "\n",
    "    $$z = 0$$\n",
    "\n",
    "    $$\\sigma(0) = \\frac{1}{1+e^{-0}}$$\n",
    "\n",
    "    $$\\\\  \\\\ a^3= 0.5 $$\n",
    "\n",
    "\n",
    "- $\\text{For } k = 3:$\n",
    "\n",
    "    $$z = (x \\cdot W^3) + b^3$$\n",
    "\n",
    "    $$z  = 0$$\n",
    "\n",
    "    $$\\sigma(0) = \\frac{1}{1+e^{-0}}$$\n",
    "\n",
    "    $$\\\\ \\\\ a^4= 0.5 $$\n",
    "\n",
    "Since w and b are initialized to the same values at each layer, and we get the same output at each layer as the original input, our final output is 0.5\n",
    "\n",
    "\n"
   ]
  },
  {
   "cell_type": "markdown",
   "metadata": {
    "deletable": false,
    "editable": false,
    "nbgrader": {
     "cell_type": "markdown",
     "checksum": "b99a2b3244913c9804b9de283a134248",
     "grade": false,
     "grade_id": "cell-77928f9f19f6876f",
     "locked": true,
     "schema_version": 3,
     "solution": false,
     "task": false
    }
   },
   "source": [
    "### Part 2:\n",
    "Use Back-Propagation to compute the weight and bias derivatives $\\partial \\ell / \\partial W^k$ and $\\partial \\ell / \\partial b^k$ for $k=1, 2, 3$.  Show all work. "
   ]
  },
  {
   "cell_type": "markdown",
   "metadata": {
    "collapsed": true,
    "deletable": false,
    "nbgrader": {
     "cell_type": "markdown",
     "checksum": "dd6dbad893ed977cd9de318e414b9e17",
     "grade": true,
     "grade_id": "cell-6a3b895fa888e925",
     "locked": false,
     "points": 8,
     "schema_version": 3,
     "solution": true
    }
   },
   "source": [
    "\n",
    "- $\\text{For } k = 3:$\n",
    "\n",
    "$(a)$\n",
    "\n",
    "$$ \\\\ \\frac{\\partial \\ell}{\\partial W^3} = \\frac {\\partial \\ell} {\\partial a^4} * \\frac {\\partial a^4} {\\partial z^4} * \\frac {\\partial z^4} {\\partial W ^3}$$\n",
    "    \n",
    "$$\\\\ = \\frac {\\partial \\ell} {\\partial a^4}\\left(\\frac{1}{2}(y - a^4)^2\\right) * \\frac {\\partial a^4} {\\partial z^4} \\left(\\frac{1}{1+e^{-z}}\\right) * \\frac {\\partial z^4} {\\partial W ^3} \\left(W^3 * a^3 + b^3\\right)$$\n",
    "\n",
    "$$ \\\\ = \\left(\\frac{2}{2}(y - a^4) * - 1\\right) * \\left(\\frac{1}{1 + e ^{-z}} * \\left(1 - \\frac{1}{1 + e^{-z}}\\right)\\right) * (a^3)$$\n",
    "    \n",
    "$$ \\\\ =  \\left((y - a^4) -1\\right) * \\left(\\frac{1}{1 + e ^{-z}} * \\left(1 - \\frac{1}{1 + e^{-z}}\\right)\\right) * a^3  $$\n",
    "\n",
    "$$ \\\\ =  (a^4 - y) * \\left(\\frac{1}{1 + e ^{-(W^3 * a^3 + b^3)}} * \\left(1 - \\frac{1}{1 + e^{-z}}\\right)\\right) * a^3  $$\n",
    "\n",
    "We are told $W^k = 1.0$,  $b^k = -0.5$ and  $y = 0$. We also obtained $a^4  = a^3 = a^2 = 0.5$ from 2.1, so we plug in these values.\n",
    "\n",
    "$$ \\\\ =  (0.5 - 0) * \\left(\\frac{1}{1 + e ^{-(1*0.5 -0.5)}} * \\left(1 - \\frac{1}{1 + e^{-z}}\\right)\\right) * 0.5  $$\n",
    "\n",
    "$$ \\\\ =  0.5  * \\left(\\frac{1}{1 + e ^{-(1*0.5 -0.5)}} * \\left(1 - \\frac{1}{1 + e^{-(1*0.5 -0.5)}}\\right)\\right) * 0.5  $$\n",
    "\n",
    "$$ \\\\ =  0.5 * \\left(\\frac{1}{1 + e ^{0}} * \\left(1 - \\frac{1}{1 + e^{(0)}}\\right)\\right) * 0.5  $$\n",
    "\n",
    "$$ \\\\ =  0.5 * \\left(\\frac{1}{2} * \\frac{1}{2}\\right) * 0.5  $$\n",
    "\n",
    "$$ \\\\ =  0.5 * 0.25 * 0.5  $$\n",
    "\n",
    "$$ \\\\ =  0.065  $$\n",
    "\n",
    "\n",
    "    \n",
    "$(b)$\n",
    "\n",
    "$$ \\\\ \\frac{\\partial \\ell}{\\partial b^3} = \\frac {\\partial \\ell} {\\partial a^4} * \\frac {\\partial a^4} {\\partial z^4} * \\frac {\\partial z^4} {\\partial b^3}$$\n",
    "\n",
    "$$\\\\ = \\frac {\\partial \\ell} {\\partial a^4}\\left(\\frac{1}{2}(y - a^4)^2\\right) * \\frac {\\partial a^4} {\\partial z^4} \\left(\\frac{1}{1+e^{-z}}\\right) * \\frac {\\partial z^4} {\\partial b^3} \\left(W^3 * a^3 + b^3\\right)$$\n",
    "\n",
    "$$ \\\\ =  (a^4 - y) * \\left(\\frac{1}{1 + e ^{-z}} * \\left(1 - \\frac{1}{1 + e^{-z}}\\right)\\right) * 1  $$\n",
    "\n",
    "$$ \\\\ =  (a^4 - y) * \\left(\\frac{1}{1 + e ^{-z}} * \\left(1 - \\frac{1}{1 + e^{-z}}\\right)\\right) $$\n",
    "\n",
    "$$ \\\\ =  0.5 * 0.25 $$\n",
    "\n",
    "$$ \\\\ =  0.125 $$\n",
    "\n",
    "$ \\\\ \\\\ \\rightarrow$ As a result, after the last layer we have: $Weight^4 = 0.065$ and $bias^4 = 0.125$\n",
    "\n",
    "- $\\text{For } k = 2:$\n",
    "\n",
    "$(a)$\n",
    "    \n",
    "$$ \\\\\\frac{\\partial \\ell}{\\partial W^2} = W^3 * bias^4 * \\left(\\frac{1}{1 + e ^{-(W^2 * a^2 + b^2)}} * \\left(1 - \\frac{1}{1 + e^{-(W^2 * a^2 + b^2)}}\\right)\\right) * a^2 $$\n",
    "\n",
    "$$ \\\\\\frac{\\partial \\ell}{\\partial W^2} = 1 * 0.125 * \\left(\\frac{1}{1 + e ^{-(1*0.5 -0.5)}} * \\left(1 - \\frac{1}{1 + e^{-(1*0.5 -0.5)}}\\right)\\right) * 0.5$$\n",
    "\n",
    "$$ \\\\\\frac{\\partial \\ell}{\\partial W^2} = 1 * 0.125 * \\left(\\frac{1}{1 + e ^{0}} * \\left(1 - \\frac{1}{1 + e^{0}}\\right)\\right) * 0.5 $$\n",
    "\n",
    "$$ \\\\\\frac{\\partial \\ell}{\\partial W^2} = 1 * 0.125 * 0.25 * 0.5 $$\n",
    "\n",
    "$$ \\\\\\frac{\\partial \\ell}{\\partial W^2} = 0.03125 * 0.5$$\n",
    "\n",
    "$$ \\\\\\frac{\\partial \\ell}{\\partial W^2} = 0.015625$$\n",
    "\n",
    "    \n",
    "\n",
    "$(b)$\n",
    "\n",
    "$$ \\\\ \\frac{\\partial \\ell}{\\partial b^2} = 1 * 0.125 * \\left(\\frac{1}{1 + e ^{-(1*0.5 -0.5)}} * \\left(1 - \\frac{1}{1 + e^{-(1*0.5 -0.5)}}\\right)\\right) $$\n",
    "\n",
    "$$ \\\\ \\frac{\\partial \\ell}{\\partial b^2} =  0.125 * 0.25$$\n",
    "\n",
    "$$ \\\\ \\frac{\\partial \\ell}{\\partial b^2} =  0.03125$$\n",
    "\n",
    "$ \\\\ \\\\ \\rightarrow$ After going back another layer, we have: $Weight^3 = 0.015625$ and $bias^3 = 0.03125$"
   ]
  },
  {
   "cell_type": "markdown",
   "metadata": {},
   "source": [
    "- $\\text{For } k = 1:$\n",
    "\n",
    "$(a)$\n",
    "    \n",
    "$$ \\\\\\frac{\\partial \\ell}{\\partial W^1} = W^1 * bias^3 * \\left(\\frac{1}{1 + e ^{-(W^1 * a^1 + b^1)}} * \\left(1 - \\frac{1}{1 + e^{-(W^1 * a^1 + b^1)}}\\right)\\right) * a^1 $$\n",
    "\n",
    "$$ \\\\\\frac{\\partial \\ell}{\\partial W^2} = 1 * 0.03125 * 0.25 * 0.5 $$\n",
    "\n",
    "$$ \\\\\\frac{\\partial \\ell}{\\partial W^2} = 0.00390625$$\n",
    "\n",
    "\n",
    "    \n",
    "$(b)$\n",
    "\n",
    "$$ \\\\ \\frac{\\partial \\ell}{\\partial b^1} = W^1 * bias^3 * \\left(\\frac{1}{1 + e ^{-(W^1 * a^1 + b^1)}} * \\left(1 - \\frac{1}{1 + e^{-(W^1 * a^1 + b^1)}}\\right)\\right)$$\n",
    "\n",
    "$$ \\\\\\frac{\\partial \\ell}{\\partial W^2} = 1 * 0.03125 * 0.25 $$\n",
    "\n",
    "$$ \\\\\\frac{\\partial \\ell}{\\partial W^2} = 0.0078125$$\n",
    "\n",
    "$ \\\\ \\\\ \\rightarrow$ After going to the last layer, we have: $Weight^2 = 0.00390625$ and $bias^2 = 0.0078125$"
   ]
  },
  {
   "cell_type": "markdown",
   "metadata": {
    "deletable": false,
    "editable": false,
    "nbgrader": {
     "cell_type": "markdown",
     "checksum": "5e5cb6f028cda68759d74b66e327c0b1",
     "grade": false,
     "grade_id": "cell-161b07ac7c31e3c3",
     "locked": true,
     "schema_version": 3,
     "solution": false,
     "task": false
    }
   },
   "source": [
    "### Part 3\n",
    "Implement the following activation functions in NumPy:\n",
    "* ReLU\n",
    "* Sigmoid\n",
    "* softmax\n",
    "Please **do not use any other external libraries** for this such as sklearn.\n",
    "\n",
    "**Note**: Assume the input `x` is a 1-dimensional numpy array with $n$ entries (i.e. `x.shape` is `(n,)`). The expected output is an array with the same shape."
   ]
  },
  {
   "cell_type": "code",
   "execution_count": 78,
   "metadata": {
    "deletable": false,
    "nbgrader": {
     "cell_type": "code",
     "checksum": "c3095d722bd4a8f2fdf5aaca330d63aa",
     "grade": false,
     "grade_id": "cell-3b7e3adaffe2c2ee",
     "locked": false,
     "schema_version": 3,
     "solution": true
    }
   },
   "outputs": [],
   "source": [
    "def relu(x):\n",
    "    return np.maximum(0, x)\n",
    "\n",
    "def sigmoid(x):\n",
    "    return 1 / (1 + np.exp(-x))\n",
    "\n",
    "def softmax(x):\n",
    "    ex = np.exp(x - np.max(x))\n",
    "    return ex / ex.sum()\n"
   ]
  },
  {
   "cell_type": "code",
   "execution_count": 79,
   "metadata": {
    "deletable": false,
    "editable": false,
    "nbgrader": {
     "cell_type": "code",
     "checksum": "00d2ad11366cf115733476c94fe7a150",
     "grade": true,
     "grade_id": "cell-0bded3752d3226b9",
     "locked": true,
     "points": 6,
     "schema_version": 3,
     "solution": false
    }
   },
   "outputs": [
    {
     "name": "stderr",
     "output_type": "stream",
     "text": [
      "TestRelu (tests.tests.TestActiv) ... ok\n",
      "TestSigmoid (tests.tests.TestActiv) ... ok\n",
      "TestSoftmax (tests.tests.TestActiv) ... ok\n",
      "\n",
      "----------------------------------------------------------------------\n",
      "Ran 3 tests in 0.015s\n",
      "\n",
      "OK\n"
     ]
    }
   ],
   "source": [
    "# random tests for checking your impementation.\n",
    "from tests import tests\n",
    "tests.run_test_suite('prob 2.3', (relu, sigmoid, softmax))"
   ]
  },
  {
   "cell_type": "markdown",
   "metadata": {
    "deletable": false,
    "editable": false,
    "nbgrader": {
     "cell_type": "markdown",
     "checksum": "190b90c03addc8236ddfed594df89e1a",
     "grade": false,
     "grade_id": "cell-f97c1b3bf8c79803",
     "locked": true,
     "schema_version": 3,
     "solution": false,
     "task": false
    }
   },
   "source": [
    "### Part 4\n",
    "Implement the following Loss functions in NumPy:\n",
    "* mean squared error\n",
    "* mean absolute error\n",
    "* hinge\n",
    "\n",
    "Please **do not use any other external libraries** for this such as sklearn.\n",
    "\n",
    "**Note**: Assume that the inputs `y` and `yhat` are both 1-dimensional numpy arrays with $n$ entries. The expected output is a float."
   ]
  },
  {
   "cell_type": "code",
   "execution_count": 115,
   "metadata": {
    "deletable": false,
    "nbgrader": {
     "cell_type": "code",
     "checksum": "82e56ad803e5c2c632c83373c33c163e",
     "grade": false,
     "grade_id": "cell-84456d343bfeca31",
     "locked": false,
     "schema_version": 3,
     "solution": true
    }
   },
   "outputs": [],
   "source": [
    "def mean_squared_error(yhat, y):\n",
    "    return (np.square(yhat - y)).mean(axis= 0)\n",
    "    \n",
    "def mean_absolute_error(yhat, y):\n",
    "    return np.mean(np.abs(yhat - y))\n",
    "\n",
    "def hinge(yhat, y):\n",
    "    return np.mean(np.maximum(np.zeros(y.shape), (np.ones(y.shape) - (yhat * y))))"
   ]
  },
  {
   "cell_type": "code",
   "execution_count": 116,
   "metadata": {
    "deletable": false,
    "editable": false,
    "nbgrader": {
     "cell_type": "code",
     "checksum": "f8e86049691327539e29077deb473f4b",
     "grade": true,
     "grade_id": "cell-550e920d814cb6d3",
     "locked": true,
     "points": 6,
     "schema_version": 3,
     "solution": false
    }
   },
   "outputs": [
    {
     "name": "stderr",
     "output_type": "stream",
     "text": [
      "TestMSE (tests.tests.TestLoss) ... ok\n",
      "TestMAE (tests.tests.TestLoss) ... ok\n",
      "TestHinge (tests.tests.TestLoss) ... ok\n",
      "\n",
      "----------------------------------------------------------------------\n",
      "Ran 3 tests in 0.007s\n",
      "\n",
      "OK\n"
     ]
    }
   ],
   "source": [
    "# random tests for checking your impementation.\n",
    "from tests import tests\n",
    "tests.run_test_suite('prob 2.4', (mean_squared_error, mean_absolute_error, hinge))"
   ]
  },
  {
   "cell_type": "markdown",
   "metadata": {
    "deletable": false,
    "editable": false,
    "nbgrader": {
     "cell_type": "markdown",
     "checksum": "8337d50de1028a199305f9eae023031b",
     "grade": false,
     "grade_id": "cell-e4c6962049a18e97",
     "locked": true,
     "schema_version": 3,
     "solution": false,
     "task": false
    }
   },
   "source": [
    "### Part 5\n",
    "Explain the vanishing gradient problem. When would you observe this? Give an example."
   ]
  },
  {
   "cell_type": "markdown",
   "metadata": {
    "collapsed": true,
    "deletable": false,
    "nbgrader": {
     "cell_type": "markdown",
     "checksum": "4badaeda2b1c32f3d0f79964d3ed4bf5",
     "grade": true,
     "grade_id": "cell-59ccf91056b5d8bb",
     "locked": false,
     "points": 6,
     "schema_version": 3,
     "solution": true
    }
   },
   "source": [
    "The vanishing gradient problem is a situation in which the neural network is effectively stuck and unable to continue learning. In the process of back propagation, a neural network learnes the weights and biases by minimizing the loss function. However, when adding more layers to the neural network with the use of certain activation functions (like sigmoid, for example), the product of the derivative becomes smaller and smaller until the partial derivative  - or gradient - of the loss function approximates zero. In this situation, the weights and bias can no longer be updated, such that the neural network gets stuck and cannot conclude the training process.\n",
    "\n",
    "This is not an issue in neural networks that only require a few hidden layers but, as layers are added to the network with some types of activation functions, the gradient can reach a point where it is too small for the training to be effective and can lead to inaccurate predictions.\n",
    "\n"
   ]
  },
  {
   "cell_type": "markdown",
   "metadata": {
    "deletable": false,
    "editable": false,
    "nbgrader": {
     "cell_type": "markdown",
     "checksum": "e41abddda3d3505897546da7f9366fe4",
     "grade": false,
     "grade_id": "cell-85519893ca971e10",
     "locked": true,
     "schema_version": 3,
     "solution": false,
     "task": false
    }
   },
   "source": [
    "Problem 3 - Build a feedforward neural network in NumPy\n",
    "---\n",
    "\n",
    "In this problem you will implement a class representing a general feed-forward neural network that utilizes the sigmoid activation functions. Your tasks will be to implement forward propagation, prediction, back propagation, and a general train routine to learn the weights in your network via stochastic gradient descent.\n",
    "\n",
    "The skeleton for the network class is below."
   ]
  },
  {
   "cell_type": "code",
   "execution_count": 123,
   "metadata": {
    "deletable": false,
    "nbgrader": {
     "cell_type": "code",
     "checksum": "61fd73a93a943091261407a2d39b76d7",
     "grade": false,
     "grade_id": "cell-b8abc0ac570aac74",
     "locked": false,
     "schema_version": 3,
     "solution": true
    }
   },
   "outputs": [],
   "source": [
    "import argparse\n",
    "import numpy as np\n",
    "import pickle\n",
    "import gzip\n",
    "import matplotlib.pyplot as plt\n",
    "\n",
    "\n",
    "class Network:\n",
    "    def __init__(self, sizes):\n",
    "        self.L = len(sizes)\n",
    "        self.sizes = sizes\n",
    "        self.biases = [np.random.randn(n, 1) for n in self.sizes[1:]]\n",
    "        self.weights = [np.random.randn(n, m) for (\n",
    "            m, n) in zip(self.sizes[:-1], self.sizes[1:])]\n",
    "        self.acc_train_array = []\n",
    "        self.acc_test_array = []\n",
    "\n",
    "    def g(self, z):\n",
    "        \"\"\"\n",
    "        activation function\n",
    "        \"\"\"\n",
    "        return sigmoid(z)\n",
    "\n",
    "    def g_prime(self, z):\n",
    "        \"\"\"\n",
    "        derivative of activation function\n",
    "        \"\"\"\n",
    "        return sigmoid_prime(z)\n",
    "\n",
    "    def forward_prop(self, a):\n",
    "        \"\"\"\n",
    "        memory aware forward propagation for testing\n",
    "        only.  back_prop implements its own forward_prop\n",
    "        should take in weights and biases and return output value\n",
    "        \"\"\"\n",
    "        for w, b in zip(self.weights, self.biases):\n",
    "            z = np.dot(w, a) + b \n",
    "            a = self.g(z)\n",
    "        \n",
    "        return a\n",
    "\n",
    "    def grad_cost(self, a, y):\n",
    "        \"\"\"\n",
    "        gradient of cost function\n",
    "        Assumes C(a,y) = (a-y)^2/2\n",
    "        \"\"\"\n",
    "        return (a - y)\n",
    "    \n",
    "    def log_train_progress(self, train, test, epoch):\n",
    "        \"\"\" Logs training progres. \n",
    "        \"\"\"\n",
    "        acc_train = self.evaluate(train)\n",
    "        self.acc_train_array.append(acc_train)\n",
    "        if test is not None:\n",
    "            acc_test = self.evaluate(test)\n",
    "            self.acc_test_array.append(acc_test)\n",
    "            print(\"Epoch {:4d}: Train {:10.5f}, Test {:10.5f}\".format(\n",
    "                epoch+1, acc_train, acc_test))\n",
    "        else:\n",
    "            print(\"Epoch {:4d}: Train {:10.5f}\".format(\n",
    "                epoch+1, acc_train))\n",
    "            \n",
    "\n",
    "    def SGD_train(self, train, epochs, eta, lam=0.0, verbose=True, test=None):\n",
    "        \"\"\"\n",
    "        SGD for training parameters\n",
    "        epochs is the number of epocs to run\n",
    "        eta is the learning rate\n",
    "        lam is the regularization parameter\n",
    "        If verbose is set will print progressive accuracy updates\n",
    "        If test set is provided, routine will print accuracy on test set as learning evolves\n",
    "        \"\"\"\n",
    "        n_train = len(train)\n",
    "        for epoch in range(epochs):\n",
    "            perm = np.random.permutation(n_train)\n",
    "            for kk in range(n_train):\n",
    "                self.SGD_step(*train[perm[kk]], eta, lam)\n",
    "            if verbose and epoch == 0 or (epoch + 1) % 20 == 0:\n",
    "                self.log_train_progress(train, test, epoch)\n",
    "    \n",
    "    def SGD_step(self, x, y, eta, lam):\n",
    "        \"\"\"\n",
    "        TODO: get gradients with x, y and do SGD on weights and biases\n",
    "\n",
    "        Args:\n",
    "            x: single sample features.\n",
    "            y: single sample target.\n",
    "            eta: learning rate.\n",
    "            lam: Regularization parameter.\n",
    "                \n",
    "        \"\"\"\n",
    "        # TODO: get gradients with xk, yk and do SGD on and update weights and biases\n",
    "        \n",
    "        dW_list, db_list = self.back_prop(x,y)\n",
    "        updated_weights = []\n",
    "        updated_biases = []\n",
    "\n",
    "        for weight, dw in zip(self.weights, dW_list):\n",
    "            updated_weights.append(weight - eta * (dw + lam * weight))\n",
    "        \n",
    "        for bias, db in zip(self.biases, db_list):\n",
    "            updated_biases.append(bias - eta * (db))\n",
    "        \n",
    "        self.weights = updated_weights \n",
    "        self.biases = updated_biases\n",
    "\n",
    "\n",
    "    def back_prop(self, x, y):\n",
    "        \"\"\"\n",
    "        Back propagation for derivatives of C wrt parameters\n",
    "        \"\"\"\n",
    "        db_list = [np.zeros(b.shape) for b in self.biases]\n",
    "        dW_list = [np.zeros(W.shape) for W in self.weights]\n",
    "        \n",
    "        a = x\n",
    "        a_list = [a]\n",
    "        z_list = [np.zeros(a.shape)]  # Pad with a placeholder so that indices match\n",
    "\n",
    "        for W, b in zip(self.weights, self.biases):\n",
    "            z = np.dot(W, a) + b\n",
    "            z_list.append(z)\n",
    "            a = self.g(z)\n",
    "            a_list.append(a)\n",
    "\n",
    "        # Back propagate deltas to compute derivatives\n",
    "        # The following list gives hints on how to do it\n",
    "        # calculating delta (Error) for the output layer\n",
    "        # for the appropriate layers compute db_list[ell], dW_list[ell], delta\n",
    "        # use functions above for your solution\n",
    "        loss_gradient = self.grad_cost(a_list[self.L-1], y)\n",
    "        acc_gradient = self.g_prime(z_list[self.L-1])\n",
    "        delta = loss_gradient * acc_gradient\n",
    "        other_l = self.L - 2\n",
    "        \n",
    "        for i in range(other_l, -1, -1):\n",
    "            db_list[i] = delta \n",
    "            dW_list[i] = np.dot(delta, a_list[i].T)\n",
    "            w_transposed = self.weights[i].T\n",
    "            delta = np.dot(w_transposed, delta) * self.g_prime(z_list[i])\n",
    "\n",
    "        return (dW_list, db_list)\n",
    "    \n",
    "\n",
    "    def evaluate(self, test):\n",
    "        \"\"\"\n",
    "        Evaluate current model on labeled test data\n",
    "        \"\"\"\n",
    "        ctr = 0\n",
    "        for x, y in test:\n",
    "            yhat = self.forward_prop(x)\n",
    "            ctr += yhat.argmax() == y.argmax()\n",
    "        return float(ctr) / float(len(test))\n",
    "\n",
    "\n",
    "def sigmoid(z, threshold=20):\n",
    "    z = np.clip(z, -threshold, threshold)\n",
    "    return 1.0 / (1.0 + np.exp(-z))\n",
    "\n",
    "\n",
    "def sigmoid_prime(z):\n",
    "    return sigmoid(z) * (1.0 - sigmoid(z))\n",
    "\n",
    "\n",
    "def mnist_digit_show(flatimage, outname=None):\n",
    "\n",
    "    import matplotlib.pyplot as plt\n",
    "\n",
    "    image = np.reshape(flatimage, (-1, 14))\n",
    "\n",
    "    plt.matshow(image, cmap=plt.cm.binary)\n",
    "    plt.xticks([])\n",
    "    plt.yticks([])\n",
    "    if outname:\n",
    "        plt.savefig(outname)\n",
    "    else:\n",
    "        plt.show()"
   ]
  },
  {
   "cell_type": "markdown",
   "metadata": {
    "deletable": false,
    "editable": false,
    "nbgrader": {
     "cell_type": "markdown",
     "checksum": "df752a10897fda50f7480c89b05d113b",
     "grade": false,
     "grade_id": "cell-7eed131bbb859104",
     "locked": true,
     "schema_version": 3,
     "solution": false,
     "task": false
    }
   },
   "source": [
    "### Part 1\n",
    "Implement `SGD_step`, `back_prop`, and `forward_prop`. Use the following test cases to verify if the code is working as expected."
   ]
  },
  {
   "cell_type": "code",
   "execution_count": 124,
   "metadata": {
    "deletable": false,
    "editable": false,
    "nbgrader": {
     "cell_type": "code",
     "checksum": "e083a8e163ca2c45c7731a8cf6f60ac2",
     "grade": true,
     "grade_id": "cell-7632a78793a2588e",
     "locked": true,
     "points": 20,
     "schema_version": 3,
     "solution": false
    }
   },
   "outputs": [
    {
     "name": "stderr",
     "output_type": "stream",
     "text": [
      "TestBackPropWithoutRegularization (tests.tests.TestNetwork) ... ok\n",
      "TestBackPropWithRegularization (tests.tests.TestNetwork) ... ok\n",
      "\n",
      "----------------------------------------------------------------------\n",
      "Ran 2 tests in 0.446s\n",
      "\n",
      "OK\n"
     ]
    }
   ],
   "source": [
    "from tests import tests\n",
    "tests.run_test_suite('prob 3', Network)"
   ]
  },
  {
   "cell_type": "markdown",
   "metadata": {
    "deletable": false,
    "editable": false,
    "nbgrader": {
     "cell_type": "markdown",
     "checksum": "780991ea3be1b0006a17caeaf9f32e7e",
     "grade": false,
     "grade_id": "cell-3a21b0c7d363da0d",
     "locked": true,
     "schema_version": 3,
     "solution": false,
     "task": false
    }
   },
   "source": [
    "### Part 2\n",
    "\n",
    "Run the above Network on MNIST Dataset and report the following (feel free to experiment with different learning rates).\n",
    "\n",
    "* Change the hidden layer dimensions and experiment with these values: [5, 10, 20].\n",
    "* Plot accuracies of different hidden layer dimensions vs. epochs for both training and testing.\n",
    "* Explain the effect of hidden layer dimension on performance. \n",
    "\n",
    "**Note:** Accuracies are stored in `self.acc_train_array` and `self.acc_test_array` if `verbose` is `True`."
   ]
  },
  {
   "cell_type": "code",
   "execution_count": 171,
   "metadata": {},
   "outputs": [
    {
     "name": "stdout",
     "output_type": "stream",
     "text": [
      "Number of Input Features:  196\n",
      "Number of Output classes:  10\n",
      "\n",
      "Hidden Layer Dimensions:  5\n",
      "Epoch    1: Train    0.24490, Test    0.24330\n",
      "Epoch   20: Train    0.78752, Test    0.71269\n",
      "Epoch   40: Train    0.86915, Test    0.78471\n",
      "Epoch   60: Train    0.88395, Test    0.79712\n",
      "Epoch   80: Train    0.89236, Test    0.79792\n",
      "Epoch  100: Train    0.89076, Test    0.79512\n",
      "Epoch  120: Train    0.89316, Test    0.79312\n",
      "Epoch  140: Train    0.89516, Test    0.79632\n",
      "Epoch  160: Train    0.89396, Test    0.79712\n",
      "Epoch  180: Train    0.89316, Test    0.79232\n",
      "Epoch  200: Train    0.89596, Test    0.79872\n",
      "\n",
      "Hidden Layer Dimensions:  10\n",
      "Epoch    1: Train    0.17447, Test    0.18527\n",
      "Epoch   20: Train    0.89316, Test    0.81313\n",
      "Epoch   40: Train    0.92077, Test    0.84354\n",
      "Epoch   60: Train    0.93117, Test    0.85194\n",
      "Epoch   80: Train    0.93717, Test    0.85634\n",
      "Epoch  100: Train    0.93838, Test    0.85834\n",
      "Epoch  120: Train    0.94438, Test    0.85834\n",
      "Epoch  140: Train    0.94198, Test    0.85874\n",
      "Epoch  160: Train    0.95038, Test    0.86355\n",
      "Epoch  180: Train    0.95198, Test    0.86355\n",
      "Epoch  200: Train    0.95318, Test    0.86275\n",
      "\n",
      "Hidden Layer Dimensions:  20\n",
      "Epoch    1: Train    0.31172, Test    0.26971\n",
      "Epoch   20: Train    0.91677, Test    0.84074\n",
      "Epoch   40: Train    0.94078, Test    0.86034\n",
      "Epoch   60: Train    0.95078, Test    0.87195\n",
      "Epoch   80: Train    0.95438, Test    0.87275\n",
      "Epoch  100: Train    0.95918, Test    0.87635\n",
      "Epoch  120: Train    0.95918, Test    0.87475\n",
      "Epoch  140: Train    0.96238, Test    0.87915\n",
      "Epoch  160: Train    0.96399, Test    0.87755\n",
      "Epoch  180: Train    0.96519, Test    0.87875\n",
      "Epoch  200: Train    0.96559, Test    0.87555\n"
     ]
    }
   ],
   "source": [
    "location = './data/tinyMNIST.pkl.gz'\n",
    "f = gzip.open(location, 'rb')\n",
    "u = pickle._Unpickler(f)\n",
    "u.encoding = 'latin1'\n",
    "train, test = u.load()\n",
    "input_dimensions = len(train[0][0])\n",
    "output_dimensions = len(train[0][1])\n",
    "print('Number of Input Features: ', input_dimensions)\n",
    "print('Number of Output classes: ', output_dimensions)\n",
    "\n",
    "nns = []\n",
    "for hidden_layer_dimensions in [5, 10, 20]:\n",
    "    print('\\nHidden Layer Dimensions: ', hidden_layer_dimensions)\n",
    "    nn = Network([input_dimensions, hidden_layer_dimensions, output_dimensions])\n",
    "    nns.append(nn)\n",
    "    nn.SGD_train(train, epochs=200, eta=0.1, lam=0.0001, verbose=True, test=test)"
   ]
  },
  {
   "cell_type": "markdown",
   "metadata": {
    "deletable": false,
    "editable": false,
    "nbgrader": {
     "cell_type": "markdown",
     "checksum": "f93da7a1fb1a534fdba7fccbcacef6c2",
     "grade": false,
     "grade_id": "cell-3a4d12fce7f9f7c0",
     "locked": true,
     "schema_version": 3,
     "solution": false,
     "task": false
    }
   },
   "source": [
    "Plot training and testing accuracies below for each configuration. Use solid lines for testing accuracy, and dotted lines for train accuracy (`ls='dashed`). \n",
    "\n",
    "Be sure to label your lines and match colors accordingly."
   ]
  },
  {
   "cell_type": "code",
   "execution_count": 170,
   "metadata": {
    "deletable": false,
    "nbgrader": {
     "cell_type": "code",
     "checksum": "210f7afe0af853651b6f0d659016f871",
     "grade": true,
     "grade_id": "cell-5e86a6c1f3a99b62",
     "locked": false,
     "points": 5,
     "schema_version": 3,
     "solution": true,
     "task": false
    }
   },
   "outputs": [
    {
     "data": {
      "image/png": "[encoded data removed]",
      "text/plain": [
       "<Figure size 1440x720 with 1 Axes>"
      ]
     },
     "metadata": {
      "needs_background": "light"
     },
     "output_type": "display_data"
    },
    {
     "data": {
      "image/png": "[encoded data removed]",
      "text/plain": [
       "<Figure size 1440x720 with 1 Axes>"
      ]
     },
     "metadata": {
      "needs_background": "light"
     },
     "output_type": "display_data"
    },
    {
     "data": {
      "image/png": "[encoded data removed]",
      "text/plain": [
       "<Figure size 1440x720 with 1 Axes>"
      ]
     },
     "metadata": {
      "needs_background": "light"
     },
     "output_type": "display_data"
    }
   ],
   "source": [
    "fig, ax = plt.subplots(nrows=1, ncols=1, figsize=(20,10))\n",
    "epochs_array = [i for i in range(1, 220, 20)]\n",
    "\n",
    "plt.plot(epochs_array, nns[0].acc_train_array, label = \"Train\", marker='o', color= \"blue\", ls= 'dashed')\n",
    "plt.plot(epochs_array, nns[0].acc_test_array, label = \"Test\", marker='o', color= \"blue\")\n",
    "plt.title('Neural Network Accuracies with 5 Hidden Layers \\n for Training and Testing', fontsize= 14)\n",
    "plt.xlabel('Epochs', fontsize=13)\n",
    "plt.ylabel('Accuracy', fontsize=13)\n",
    "plt.legend(loc=\"lower right\", fontsize=13)\n",
    "plt.show()\n",
    "\n",
    "fig, ax = plt.subplots(nrows=1, ncols=1, figsize=(20,10))\n",
    "plt.plot(epochs_array, nns[1].acc_train_array, label = \"Train\", marker='o', color= \"orange\", ls= 'dashed')\n",
    "plt.plot(epochs_array, nns[1].acc_test_array, label = \"Test\", marker='o', color= \"orange\")\n",
    "plt.title('Neural Network Accuracies with 10 Hidden Layers \\n for Training and Testing', fontsize= 14)\n",
    "plt.xlabel('Epochs', fontsize=13)\n",
    "plt.ylabel('Accuracy', fontsize=13)\n",
    "plt.legend(loc=\"lower right\", fontsize=13)\n",
    "plt.show()\n",
    "\n",
    "fig, ax = plt.subplots(nrows=1, ncols=1, figsize=(20,10))\n",
    "plt.plot(epochs_array, nns[2].acc_train_array, label = \"Train\", marker='o', color= \"green\", ls= 'dashed')\n",
    "plt.plot(epochs_array, nns[2].acc_test_array, label = \"Test\", marker='o', color= \"green\")\n",
    "plt.title('Neural Network Accuracies with 20 Hidden Layers \\n for Training and Testing', fontsize= 14)\n",
    "plt.xlabel('Epochs', fontsize=13)\n",
    "plt.ylabel('Accuracy', fontsize=13)\n",
    "plt.legend(loc=\"lower right\", fontsize=13)\n",
    "plt.show()\n",
    "\n",
    "\n"
   ]
  },
  {
   "cell_type": "code",
   "execution_count": 172,
   "metadata": {},
   "outputs": [
    {
     "data": {
      "image/png": "[encoded data removed]",
      "text/plain": [
       "<Figure size 1440x720 with 1 Axes>"
      ]
     },
     "metadata": {
      "needs_background": "light"
     },
     "output_type": "display_data"
    }
   ],
   "source": [
    "fig, ax = plt.subplots(nrows=1, ncols=1, figsize=(20,10))\n",
    "epochs_array = [i for i in range(1, 220, 20)]\n",
    "\n",
    "plt.plot(epochs_array, nns[0].acc_train_array, label = \"Train 5 layers\", marker='o', color= \"blue\", ls= 'dashed')\n",
    "plt.plot(epochs_array, nns[0].acc_test_array, label = \"Test 5 layers\", marker='o', color= \"blue\")\n",
    "plt.plot(epochs_array, nns[1].acc_train_array, label = \"Train 10 layers\", marker='o', color= \"orange\", ls= 'dashed')\n",
    "plt.plot(epochs_array, nns[1].acc_test_array, label = \"Test 10 layers\", marker='o', color= \"orange\")\n",
    "plt.plot(epochs_array, nns[2].acc_train_array, label = \"Train 20 layers\", marker='o', color= \"green\", ls= 'dashed')\n",
    "plt.plot(epochs_array, nns[2].acc_test_array, label = \"Test 20 layers\", marker='o', color= \"green\")\n",
    "plt.title('Neural Network Accuracies with Different Layers \\n for Training and Testing', fontsize= 14)\n",
    "plt.xlabel('Epochs', fontsize=13)\n",
    "plt.ylabel('Accuracy', fontsize=13)\n",
    "plt.legend(loc=\"lower right\", fontsize=13)\n",
    "plt.show()"
   ]
  },
  {
   "cell_type": "markdown",
   "metadata": {
    "deletable": false,
    "editable": false,
    "nbgrader": {
     "cell_type": "markdown",
     "checksum": "9cdbb2067c8b35fc50d7701498c5a636",
     "grade": false,
     "grade_id": "cell-ce9008bef635107d",
     "locked": true,
     "schema_version": 3,
     "solution": false,
     "task": false
    }
   },
   "source": [
    "Give your explanation below."
   ]
  },
  {
   "cell_type": "markdown",
   "metadata": {
    "deletable": false,
    "nbgrader": {
     "cell_type": "markdown",
     "checksum": "dd36ca1bb36eb7f7132e0538a571aac0",
     "grade": true,
     "grade_id": "cell-fb5c5d0fd9a6d900",
     "locked": false,
     "points": 5,
     "schema_version": 3,
     "solution": true,
     "task": false
    }
   },
   "source": [
    "If we look at the three graphs, the overall training and testing trends are similar for 5, 10 and 20 hidden layers in the neural network. In all three cases, there is a jump in accuracy right after the first epoch and throughout the epochs, the training accuracy is higher than the testing one. This is to be expected as the neural network is learning based on the training data. The regularization term used for training the model, $\\lambda = 0.0001$, is small. Therefore it might not be big enough to penalize overfitting in favor of reducing generalization error.\n",
    "\n",
    "We can also observe that after the jump, the accuracy change from one epoch to another is marginal as the number of epoch increases, showing that the model more or less stabilizes in its predictions, with very smooth up and down changes in accuracy, in particular in the training data. The accuracy levels are overall higher with 20 hidden layers, where after 200 epochs, the model reaches 0.87555 accuracy. In contrast, the model reaches 0.79872 and 0.86275 accuracy at the 200th epoch for 5 and 10 hidden layers, respectively. \n",
    "\n",
    "While adding more layers increases accuracy, the increase in accuracy from 10 to 20 hidden layers (ie. 0.86 to 0.87) is not as much as between 5 and 10 hidden layers (0.79 to 0.86). This could mean we are approximating (if not already reached) the vanishing gradient problem. That is, if we were to keep adding hidden layers, the model's performance will plateau without being able to continue learning and improving. Given the small changes in accuracy between 10 and 20 hidden layers, this may well be the case. As we add layers, we are not gaining much in accuracy. "
   ]
  },
  {
   "cell_type": "markdown",
   "metadata": {
    "deletable": false,
    "editable": false,
    "nbgrader": {
     "cell_type": "markdown",
     "checksum": "73f8da6f58fb749773965cbd6f1eab6f",
     "grade": false,
     "grade_id": "cell-65d25b85ad55bfe6",
     "locked": true,
     "schema_version": 3,
     "solution": false,
     "task": false
    }
   },
   "source": [
    "## Problem 4 - Tensors and Autograd.\n",
    "In this problem, we will demonstrate the benefits of PyTorch's Autograd mechanics by converting your implementation from Problem to utilize PyTorch Tensors. This problem is not meant to be difficult, rather it should be quite simple once you've done Problem 3.\n",
    "\n",
    "Note that there are *better* ways to go about this which we will cover next. Here. we are keeping things as close to numpy as possible on purpose to show what's going on behind the scenes. Take a moment to look through our modifications to get an understanding of the differences. In the comments, we'll make notes of native torch functions that perform the same operations. \n",
    "\n",
    "Here, SGD is implemented manually to show you what's going on behind the scenes, but  usually you'd use [`torch.optim.SGD`](https://pytorch.org/docs/stable/optim.html#torch.optim.SGD). For future reference, the `weight_decay` parameter implements L2 normilazion. \n",
    "\n",
    "--- \n",
    "\n",
    "Before we move forward, let's cover a couple of points on notation. \n",
    "\n",
    "Just as it's best practice to do `import numpy as np`, PyTorch has best practices for imports as well:\n",
    "\n",
    "```python\n",
    "import torch \n",
    "import torch.nn as nn\n",
    "import torch.nn.functional as F\n",
    "```\n",
    "You'll find that many of the functions you've been learning in NumPy have direct translations in PyTorch. The documentation can be found [here](https://pytorch.org/docs/stable/index.html) and is very user friendly, but we'll cover a few notable differences. \n",
    "\n",
    "- The numpy parameter `axis` becomes `dim` in PyTorch.\n",
    "- Tensors have [view](https://pytorch.org/docs/stable/tensor_view.html) operations, which avoid copying data unnecasarily. Use these instead of `reshape()`. \n",
    "- Using `torch.from_numpy()` also avoids copying data stored in `numpy` arrays.\n",
    "- Numpy interprets `np.dot()` of 2D matrices as matrix multiplication. Pytorch does not have this behaviour, see instead [`torch.matmul()`](https://pytorch.org/docs/stable/generated/torch.matmul.html?highlight=matmul#torch.matmul)\n",
    "- PyTorch uses trailing underscores such as `torch.add_()` to denote in-place operations. As an example, the following operations are equivilent:\n",
    "```python\n",
    "x = x + y\n",
    "x = torch.add(x, y)\n",
    "x.add_(y)\n",
    "```\n",
    "You're likely to see these operations when randomly initializing Tensors, or filling a tensor with zeros:\n",
    "```python\n",
    "torch.nn.init.uniform_(x)\n",
    "x.zero_()\n",
    "```\n",
    "\n",
    "---\n",
    "Now onto the problem, your tasks are as follows:\n",
    "\n",
    "1. Modify `forward_prop` to work on PyTorch Tensors.\n",
    "2. Modify `SGD_step` to work on PyTorch Tensors. This is easier than it sounds, since with PyTorch we don't have to worry about calculating gradients manually."
   ]
  },
  {
   "cell_type": "code",
   "execution_count": 132,
   "metadata": {
    "deletable": false,
    "nbgrader": {
     "cell_type": "code",
     "checksum": "094d28d461ce1b8f522ade5687aa23ed",
     "grade": false,
     "grade_id": "cell-f503b4357e8d35fc",
     "locked": false,
     "schema_version": 3,
     "solution": true,
     "task": false
    }
   },
   "outputs": [],
   "source": [
    "import torch\n",
    "\n",
    "\n",
    "class TorchNetwork(Network):\n",
    "    def __init__(self, sizes, keep_prob=-1):\n",
    "        super().__init__(sizes)\n",
    "        \n",
    "        # Convert your weights and biases to Tensors.\n",
    "        # The flag requires_grad=True tells PyTorch to track gradients for us. \n",
    "        self.biases = [torch.tensor(b, requires_grad=True) for b in self.biases]\n",
    "        self.weights = [torch.tensor(w, requires_grad=True) for w in self.weights]\n",
    "        \n",
    "\n",
    "    def g(self, z):\n",
    "        \"\"\" Activation function\n",
    "            Could also use torch.sigmoid(z)\n",
    "        \"\"\"\n",
    "        return sigmoid_torch(z) \n",
    "\n",
    "    def forward_prop(self, a):\n",
    "        \"\"\" Memory aware forward propagation. \n",
    "            Now this is for both training and testing.\n",
    "        \n",
    "        \"\"\"\n",
    "        # TODO: Convert your forward_prop function from part a to work on Tensors. \n",
    "        for w, b in zip(self.weights, self.biases):\n",
    "            z = torch.matmul(w, a) + b \n",
    "            a = self.g(z)\n",
    "        \n",
    "        return a\n",
    "\n",
    "    def cost(self, a, y):\n",
    "        \"\"\" Cost function, same as F.mse_loss()\n",
    "        \"\"\"\n",
    "        return ((a - y)**2).mean() \n",
    "            \n",
    "\n",
    "    def SGD_step(self, x, y, eta, lam):\n",
    "        \"\"\"\n",
    "            Performs a single step of SGD on weights and biases\n",
    "\n",
    "        Args:\n",
    "            x: single sample features.\n",
    "            y: single sample target.\n",
    "            eta: learning rate.\n",
    "            lam: Regularization parameter.\n",
    "                \n",
    "        \"\"\"\n",
    "        \n",
    "        # Zero out the old gradients if they exist. \n",
    "        # Would be optim.zero_grad() if we were using an optimizer.\n",
    "        for p in (*self.weights, *self.biases):\n",
    "            if p.grad is not None:\n",
    "                p.grad.detach_()\n",
    "                p.grad.zero_()\n",
    "            \n",
    "        # TODO: \n",
    "        # (1) call forward_prop to get a. \n",
    "        # (2) Calculate loss using the cost function.\n",
    "        # (3) Use loss.backward() to perform backpropagation automatically.\n",
    "\n",
    "        a = self.forward_prop(x)\n",
    "        loss = self.cost(a, y)\n",
    "        loss.backward()\n",
    "\n",
    "        # Perform sgd update \n",
    "        # Would be optimizer.step()\n",
    "        with torch.no_grad():\n",
    "            # l2 regularization on weights only.\n",
    "            for p in self.weights:\n",
    "                p.grad.add_(p, alpha=lam)\n",
    "            # sgd update. \n",
    "            for p in (*self.weights, *self.biases):\n",
    "                p.add_(p.grad, alpha=-eta)\n",
    "                \n",
    "\n",
    "def sigmoid_torch(z, threshold=20):\n",
    "    \"\"\" Same as sigmoid before, now with torch.clamp() instead of np.clip().\n",
    "        We could also just use torch.sigmoid().\n",
    "    \"\"\"\n",
    "    z = torch.clamp(z, -threshold, threshold)\n",
    "    return 1.0 / (1.0 + torch.exp(-z))\n"
   ]
  },
  {
   "cell_type": "markdown",
   "metadata": {
    "deletable": false,
    "editable": false,
    "nbgrader": {
     "cell_type": "markdown",
     "checksum": "66be78ccf7c4e1c78e4ab8df46134c5f",
     "grade": false,
     "grade_id": "cell-6227665a74ae9306",
     "locked": true,
     "schema_version": 3,
     "solution": false,
     "task": false
    }
   },
   "source": [
    "**Part 1 [14 points]:** Implement `SGD_step` and `forward_prop`. Use the following test cases to verify if the code is working as expected."
   ]
  },
  {
   "cell_type": "code",
   "execution_count": 133,
   "metadata": {
    "deletable": false,
    "editable": false,
    "nbgrader": {
     "cell_type": "code",
     "checksum": "5c694380b970eb4c33e9d5f8d7f703ea",
     "grade": true,
     "grade_id": "cell-9b1a944152b5097c",
     "locked": true,
     "points": 14,
     "schema_version": 3,
     "solution": false,
     "task": false
    }
   },
   "outputs": [
    {
     "name": "stderr",
     "output_type": "stream",
     "text": [
      "TestBackPropWithoutRegularization (tests.tests.TestNetwork) ... ok\n",
      "TestBackPropWithRegularization (tests.tests.TestNetwork) ... ok\n",
      "\n",
      "----------------------------------------------------------------------\n",
      "Ran 2 tests in 0.760s\n",
      "\n",
      "OK\n"
     ]
    }
   ],
   "source": [
    "from tests import tests\n",
    "tests.run_test_suite('new prob 4', TorchNetwork)"
   ]
  }
 ],
 "metadata": {
  "kernelspec": {
   "display_name": "Python 3 (ipykernel)",
   "language": "python",
   "name": "python3"
  },
  "language_info": {
   "codemirror_mode": {
    "name": "ipython",
    "version": 3
   },
   "file_extension": ".py",
   "mimetype": "text/x-python",
   "name": "python",
   "nbconvert_exporter": "python",
   "pygments_lexer": "ipython3",
   "version": "3.9.7"
  },
  "toc": {
   "base_numbering": 1,
   "nav_menu": {},
   "number_sections": false,
   "sideBar": true,
   "skip_h1_title": true,
   "title_cell": "Table of Contents",
   "title_sidebar": "Contents",
   "toc_cell": false,
   "toc_position": {
    "height": "calc(100% - 180px)",
    "left": "10px",
    "top": "150px",
    "width": "340px"
   },
   "toc_section_display": true,
   "toc_window_display": true
  }
 },
 "nbformat": 4,
 "nbformat_minor": 2
}
